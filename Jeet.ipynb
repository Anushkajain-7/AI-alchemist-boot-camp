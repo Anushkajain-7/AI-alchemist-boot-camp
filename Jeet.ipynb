{
 "cells": [
  {
   "cell_type": "code",
   "execution_count": 20,
   "metadata": {},
   "outputs": [
    {
     "name": "stdout",
     "output_type": "stream",
     "text": [
      "Greetings, Jeet\n"
     ]
    }
   ],
   "source": [
    "# Python Input and Output Statements\n",
    "user_name = input(\"Jeet\")\n",
    "print(\"Greetings,\", user_name)"
   ]
  },
  {
   "cell_type": "code",
   "execution_count": 6,
   "metadata": {},
   "outputs": [
    {
     "name": "stdout",
     "output_type": "stream",
     "text": [
      "30\n",
      "-10\n",
      "200\n",
      "0.5\n",
      "0\n",
      "10\n",
      "100000000000000000000\n",
      "False\n",
      "True\n",
      "False\n",
      "True\n",
      "False\n",
      "True\n",
      "False\n",
      "True\n",
      "True\n"
     ]
    }
   ],
   "source": [
    "# Expressions and Operators in Python\n",
    "x = 10\n",
    "y = 20\n",
    "\n",
    "# Arithmetic Operators\n",
    "# Addition\n",
    "print(x + y)\n",
    "# Subtraction\n",
    "print(x - y)\n",
    "# Multiplication\n",
    "print(x * y)\n",
    "# Division\n",
    "print(x / y)\n",
    "# Floor Division\n",
    "print(x // y)\n",
    "# Modulus\n",
    "print(x % y)\n",
    "# Exponentiation\n",
    "print(x ** y)\n",
    "\n",
    "# Comparison Operators\n",
    "# Equal to\n",
    "print(x == y)\n",
    "# Not equal to\n",
    "print(x != y)\n",
    "# Greater than\n",
    "print(x > y)\n",
    "# Less than\n",
    "print(x < y)\n",
    "# Greater than or equal to\n",
    "print(x >= y)\n",
    "# Less than or equal to\n",
    "print(x <= y)\n",
    "\n",
    "# Logical Operators\n",
    "# and: True if both conditions are true, otherwise false\n",
    "print(x > 5 and y < 5)\n",
    "# or: True if any condition is satisfied, otherwise false\n",
    "print(x > 5 or y < 1)\n",
    "# not: Negates the condition\n",
    "print(not (x > 5 and y < 5))"
   ]
  },
  {
   "cell_type": "code",
   "execution_count": 7,
   "metadata": {},
   "outputs": [
    {
     "name": "stdout",
     "output_type": "stream",
     "text": [
      "lion\n",
      "tiger\n",
      "elephant\n",
      "0\n",
      "1\n",
      "2\n",
      "3\n",
      "4\n"
     ]
    }
   ],
   "source": [
    "# Looping Statement in Python\n",
    "# For loop\n",
    "animals = [\"lion\", \"tiger\", \"elephant\"]\n",
    "for animal in animals:\n",
    "    print(animal)\n",
    "\n",
    "# While loop\n",
    "counter = 0\n",
    "while counter < 5:\n",
    "    print(counter)\n",
    "    counter += 1"
   ]
  },
  {
   "cell_type": "code",
   "execution_count": 8,
   "metadata": {},
   "outputs": [
    {
     "name": "stdout",
     "output_type": "stream",
     "text": [
      "0\n",
      "1\n",
      "2\n",
      "3\n",
      "4\n",
      "0\n",
      "1\n",
      "2\n",
      "3\n",
      "4\n",
      "6\n",
      "7\n",
      "8\n",
      "9\n"
     ]
    }
   ],
   "source": [
    "# Break statement\n",
    "for i in range(10):\n",
    "    if i == 5:\n",
    "        break\n",
    "    print(i)\n",
    "\n",
    "# Continue statement\n",
    "for i in range(10):\n",
    "    if i == 5:\n",
    "        continue\n",
    "    print(i)"
   ]
  },
  {
   "cell_type": "code",
   "execution_count": 9,
   "metadata": {},
   "outputs": [
    {
     "name": "stdout",
     "output_type": "stream",
     "text": [
      "Length of names: 3\n",
      "Memory address of names: 1999745220736\n",
      "Data type of names: <class 'list'>\n",
      "Iteration: 0\n",
      "Iteration: 1\n",
      "Iteration: 2\n",
      "Iteration: 3\n",
      "Iteration: 4\n"
     ]
    }
   ],
   "source": [
    "#Special functions\n",
    "names = [\"Adarsh\", \"Ahiron\", \"Jeet\"]\n",
    "\n",
    "# Using len() to get the length of the list\n",
    "print(\"Length of names:\", len(names))  \n",
    "\n",
    "# Using id() to get the memory address of the list\n",
    "print(\"Memory address of names:\", id(names))  \n",
    "\n",
    "# Using type() to get the data type of the list\n",
    "print(\"Data type of names:\", type(names))  \n",
    "\n",
    "# Using range() to iterate over a sequence of numbers\n",
    "for i in range(5):\n",
    "    print(\"Iteration:\", i)"
   ]
  },
  {
   "cell_type": "code",
   "execution_count": 10,
   "metadata": {},
   "outputs": [
    {
     "name": "stdout",
     "output_type": "stream",
     "text": [
      "Hello World!\n"
     ]
    }
   ],
   "source": [
    "# Defining a function greet with a parameter 'name'\n",
    "def greet(name):\n",
    "    \"\"\"This function prints a greeting message.\"\"\"\n",
    "    print(\"Hello\", name + \"!\")\n",
    "\n",
    "# Calling the greet function with the argument 'World'\n",
    "greet(\"World\")"
   ]
  },
  {
   "cell_type": "code",
   "execution_count": 12,
   "metadata": {},
   "outputs": [
    {
     "name": "stdout",
     "output_type": "stream",
     "text": [
      "Area of the rectangle: 1440\n"
     ]
    }
   ],
   "source": [
    "\n",
    "def calculate_area(length, width):\n",
    "    \"This function calculates the area of a rectangle.\"\n",
    "    return length * width\n",
    "area = calculate_area(24, 60) \n",
    "print(\"Area of the rectangle:\", area)  \n"
   ]
  },
  {
   "cell_type": "code",
   "execution_count": 13,
   "metadata": {},
   "outputs": [
    {
     "name": "stdout",
     "output_type": "stream",
     "text": [
      "The calculated average is: 45.666666666666664\n",
      "Please provide at least one value.\n"
     ]
    }
   ],
   "source": [
    "def calculate_average(*values):\n",
    "    \"\"\"This function calculates the average of a variable number of values.\"\"\"\n",
    "    if len(values) == 0:\n",
    "        print(\"Please provide at least one value.\")\n",
    "        return\n",
    "    return sum(values) / len(values)\n",
    "average = calculate_average(19, 38, 80)\n",
    "print(\"The calculated average is:\", average)  \n",
    "calculate_average()  \n"
   ]
  },
  {
   "cell_type": "code",
   "execution_count": 14,
   "metadata": {},
   "outputs": [
    {
     "name": "stdout",
     "output_type": "stream",
     "text": [
      "Total age of animals: 8\n",
      "Hello, Tiger!\n",
      "Sorted animals based on name lengths: ['lion', 'cheetah', 'giraffe', 'elephant']\n"
     ]
    }
   ],
   "source": [
    "# Lambda Function Syntax: lambda arguments : expression\n",
    "\n",
    "# Lambda function for adding animal ages\n",
    "animal_age_addition = lambda age1, age2: age1 + age2\n",
    "result_age_addition = animal_age_addition(3, 5)\n",
    "print(\"Total age of animals:\", result_age_addition)  \n",
    "\n",
    "# Lambda function for greeting animals\n",
    "greeting_animal = lambda name: f\"Hello, {name}!\"\n",
    "print(greeting_animal(\"Tiger\"))\n",
    "\n",
    "# Sorting a list of animals based on their names' lengths using lambda function\n",
    "animals = [\"lion\", \"elephant\", \"cheetah\", \"giraffe\"]\n",
    "sorted_animals = sorted(animals, key=lambda animal: len(animal))\n",
    "\n",
    "print(\"Sorted animals based on name lengths:\", sorted_animals)\n"
   ]
  },
  {
   "cell_type": "code",
   "execution_count": 15,
   "metadata": {},
   "outputs": [
    {
     "name": "stdout",
     "output_type": "stream",
     "text": [
      "Temperatures in Fahrenheit: [50.0, 68.0, 86.0, 104.0, 122.0]\n"
     ]
    }
   ],
   "source": [
    "# New list of numbers\n",
    "temperatures = [10, 20, 30, 40, 50]\n",
    "\n",
    "# Converting Celsius temperatures to Fahrenheit using map() and a lambda function\n",
    "fahrenheit_temperatures = map(lambda c: c * 9/5 + 32, temperatures)\n",
    "\n",
    "# map() returns an iterator, convert it to a list for printing\n",
    "print(\"Temperatures in Fahrenheit:\", list(fahrenheit_temperatures))\n"
   ]
  },
  {
   "cell_type": "code",
   "execution_count": 16,
   "metadata": {},
   "outputs": [
    {
     "name": "stdout",
     "output_type": "stream",
     "text": [
      "Passing scores: [75, 80, 90, 95, 70, 85]\n"
     ]
    }
   ],
   "source": [
    "# New list of numbers\n",
    "scores = [75, 80, 65, 90, 95, 70, 85]\n",
    "\n",
    "# Filtering passing scores using filter() and a lambda function\n",
    "passing_scores = filter(lambda score: score >= 70, scores)\n",
    "\n",
    "# filter() returns an iterator, convert it to a list for printing\n",
    "print(\"Passing scores:\", list(passing_scores))\n"
   ]
  },
  {
   "cell_type": "code",
   "execution_count": 17,
   "metadata": {},
   "outputs": [
    {
     "name": "stdout",
     "output_type": "stream",
     "text": [
      "Cumulative sum: 50\n",
      "Cumulative sum (alternative approach): 50\n"
     ]
    }
   ],
   "source": [
    "#reduce\n",
    "from functools import reduce  # Importing reduce function\n",
    "\n",
    "# New list of numbers\n",
    "values = [5, 10, 15, 20]\n",
    "\n",
    "# Finding the cumulative sum of all elements using reduce\n",
    "cumulative_sum = reduce(lambda x, y: x + y, values)\n",
    "\n",
    "print(\"Cumulative sum:\", cumulative_sum)\n",
    "\n",
    "# Alternatively, using a loop to find the cumulative sum\n",
    "cumulative_sum_alt = 0\n",
    "for num in values:\n",
    "    cumulative_sum_alt += num\n",
    "\n",
    "print(\"Cumulative sum (alternative approach):\", cumulative_sum_alt)\n"
   ]
  },
  {
   "cell_type": "code",
   "execution_count": 18,
   "metadata": {},
   "outputs": [
    {
     "name": "stdout",
     "output_type": "stream",
     "text": [
      "Cube of the number: 27\n"
     ]
    }
   ],
   "source": [
    "#return\n",
    "def cube(x):\n",
    "  \"\"\"This function cubes a number.\"\"\"\n",
    "  return x * x * x\n",
    "\n",
    "# Calculating the cube of a number\n",
    "result = cube(3)\n",
    "print(\"Cube of the number:\", result)\n"
   ]
  },
  {
   "cell_type": "code",
   "execution_count": 19,
   "metadata": {},
   "outputs": [
    {
     "name": "stdout",
     "output_type": "stream",
     "text": [
      "Outside function - Total employees: 100\n",
      "Inside function - Total employees: 100\n",
      "HR department employees: 20\n",
      "Finance department employees: 30\n",
      "Inside inner function - Total employees: 100\n",
      "HR department employees: 20\n",
      "Finance department employees: 30\n",
      "IT team employees: 15\n"
     ]
    }
   ],
   "source": [
    "# Global variable representing the total number of employees\n",
    "total_employees = 100\n",
    "\n",
    "def department_statistics():\n",
    "    # Local variables representing the number of employees in different departments\n",
    "    hr_employees = 20\n",
    "    finance_employees = 30\n",
    "\n",
    "    # Accessing both global and local variables\n",
    "    print(\"Inside function - Total employees:\", total_employees)\n",
    "    print(\"HR department employees:\", hr_employees)\n",
    "    print(\"Finance department employees:\", finance_employees)\n",
    "\n",
    "    def team_statistics():\n",
    "        # Local variable representing the number of employees in a specific team\n",
    "        it_employees = 15\n",
    "        \n",
    "        # Accessing global, local (outer), and local (inner) variables\n",
    "        print(\"Inside inner function - Total employees:\", total_employees)\n",
    "        print(\"HR department employees:\", hr_employees)\n",
    "        print(\"Finance department employees:\", finance_employees)\n",
    "        print(\"IT team employees:\", it_employees)\n",
    "\n",
    "    team_statistics()  # Calling the inner function\n",
    "\n",
    "print(\"Outside function - Total employees:\", total_employees)  # Accessing only the global variable\n",
    "\n",
    "department_statistics()\n"
   ]
  }
 ],
 "metadata": {
  "kernelspec": {
   "display_name": "base",
   "language": "python",
   "name": "python3"
  },
  "language_info": {
   "codemirror_mode": {
    "name": "ipython",
    "version": 3
   },
   "file_extension": ".py",
   "mimetype": "text/x-python",
   "name": "python",
   "nbconvert_exporter": "python",
   "pygments_lexer": "ipython3",
   "version": "3.11.4"
  }
 },
 "nbformat": 4,
 "nbformat_minor": 2
}
