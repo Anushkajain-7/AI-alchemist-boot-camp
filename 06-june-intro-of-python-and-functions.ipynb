{
 "cells": [
  {
   "cell_type": "code",
   "execution_count": 3,
   "metadata": {},
   "outputs": [
    {
     "name": "stdout",
     "output_type": "stream",
     "text": [
      "Hello venu!\n"
     ]
    }
   ],
   "source": [
    "#python input and output statements\n",
    "\n",
    "#input statement\n",
    "name = input(\"Enter your name: \")\n",
    "\n",
    "\n",
    "#output statement with arguments\n",
    "print(\"Hello\",name, end=\"!\\n\")\n"
   ]
  },
  {
   "cell_type": "code",
   "execution_count": null,
   "metadata": {},
   "outputs": [],
   "source": [
    "# python data types\n",
    "\n",
    "int_number=76\n",
    "float_number=12.34\n",
    "complex_number=2+4j\n",
    "string=\"johny\"\n",
    "boolean=True\n",
    "sample_list=[13,14,15,16,17]\n",
    "sample_tuple=(\"car\",\"bike\",\"truck\",\"machine\")\n",
    "sample_dict=(\"Name\":\"Virat Kohli\",\"age\":36)\n",
    "sample_set={1,2,3,4,5,6,7}"
   ]
  },
  {
   "cell_type": "code",
   "execution_count": 5,
   "metadata": {},
   "outputs": [
    {
     "name": "stdout",
     "output_type": "stream",
     "text": [
      "10\n",
      "4\n",
      "21\n",
      "2.3333333333333335\n",
      "343\n",
      "2\n",
      "1\n",
      "False\n",
      "True\n",
      "True\n",
      "False\n",
      "True\n",
      "False\n",
      "True\n",
      "True\n",
      "False\n"
     ]
    }
   ],
   "source": [
    "# Expressions and operators\n",
    "a=7\n",
    "b=3\n",
    "\n",
    "#arithmetic operators\n",
    "\n",
    "#addition\n",
    "print(a+b)\n",
    "#subtraction\n",
    "print(a-b)\n",
    "#multiplication\n",
    "print(a*b)\n",
    "#division\n",
    "print(a/b)\n",
    "#exponentionl\n",
    "print(a**b)\n",
    "#floor division\n",
    "print(a//b)\n",
    "#modulus\n",
    "print(a%b)\n",
    "\n",
    "\n",
    "#Comparision operator\n",
    "\n",
    "#equal to\n",
    "print(a == b)\n",
    "#Not equal to\n",
    "print(a != b)\n",
    "# Greater than\n",
    "print(a > b)  \n",
    "# Less than\n",
    "print(a < b)  \n",
    "# Greater than or equal to\n",
    "print(a >= b)\n",
    "# Less than or equal to\n",
    "print(a <= b)\n",
    "\n",
    "# Logical Operators\n",
    "# and: True if both condition are true else false\n",
    "print(a > 5 and b < 5)  \n",
    "# or: True if any contition is satisfy else false\n",
    "print(a > 5 or b < 1) \n",
    "# not: negates the condition \n",
    "print(not(a > 5 and b < 5)) \n"
   ]
  },
  {
   "cell_type": "code",
   "execution_count": 7,
   "metadata": {},
   "outputs": [
    {
     "name": "stdout",
     "output_type": "stream",
     "text": [
      "9\n",
      "192.0\n",
      "55\n",
      "['M', 'O', 'K', 'S', 'H']\n",
      "(1, 2, 3, 4, 5)\n",
      "{1, 2, 3, 4, 5}\n"
     ]
    }
   ],
   "source": [
    "#Type Casting\n",
    "\n",
    "# converting float to integer\n",
    "int_from_float = int(9.74)\n",
    "print(int_from_float)\n",
    "\n",
    "#converting float to integer\n",
    "float_from_int = float(192)\n",
    "print(float_from_int)\n",
    "\n",
    "#converting integer to string\n",
    "string_from_int = str(55)\n",
    "print(string_from_int)\n",
    "\n",
    "#converting string to list\n",
    "list_from_string = list(\"MOKSH\")\n",
    "print(list_from_string)\n",
    "\n",
    "#converting list to tuple\n",
    "tuple_from_list = tuple([1,2,3,4,5])\n",
    "print(tuple_from_list)\n",
    "\n",
    "#converting list to set\n",
    "set_from_list = set([1, 2, 3, 4, 5])\n",
    "print(set_from_list)\n"
   ]
  },
  {
   "cell_type": "code",
   "execution_count": 8,
   "metadata": {},
   "outputs": [
    {
     "name": "stdout",
     "output_type": "stream",
     "text": [
      "11 is greater than 5\n"
     ]
    }
   ],
   "source": [
    "# Conditional Statements\n",
    "\n",
    "a=11\n",
    "b=5\n",
    "\n",
    "if a>b:\n",
    "    print(f\"{a} is greater than {b}\")\n",
    "    \n",
    "elif a<b:\n",
    "    print(f\"{a} is less than {b}\")\n",
    "    \n",
    "else:\n",
    "    print(f\"{a} is equal to {b}\")"
   ]
  },
  {
   "cell_type": "code",
   "execution_count": 12,
   "metadata": {},
   "outputs": [
    {
     "name": "stdout",
     "output_type": "stream",
     "text": [
      "car\n",
      "bike\n",
      "bicycle\n",
      "truck\n",
      "0\n",
      "1\n",
      "2\n",
      "3\n",
      "4\n",
      "5\n",
      "6\n",
      "7\n"
     ]
    }
   ],
   "source": [
    "# Looping Statements\n",
    "\n",
    "# For Loop\n",
    "\n",
    "vehicles = [\"car\",\"bike\",\"bicycle\",\"truck\"]\n",
    "for x in vehicles:\n",
    "    print(x)\n",
    "    \n",
    "# While Loop\n",
    "\n",
    "count = 0\n",
    "while count < 8:\n",
    "    print(count)\n",
    "    count += 1"
   ]
  },
  {
   "cell_type": "code",
   "execution_count": 14,
   "metadata": {},
   "outputs": [
    {
     "name": "stdout",
     "output_type": "stream",
     "text": [
      "0\n",
      "1\n",
      "2\n",
      "3\n",
      "4\n",
      "5\n",
      "6\n",
      "0\n",
      "1\n",
      "2\n",
      "3\n",
      "4\n",
      "5\n",
      "6\n",
      "7\n",
      "8\n",
      "9\n",
      "10\n",
      "12\n",
      "13\n",
      "14\n"
     ]
    }
   ],
   "source": [
    "# Jumping Statements\n",
    "\n",
    "# Break statement\n",
    "for i in range(15):\n",
    "    if i == 7:\n",
    "        break\n",
    "    print(i)\n",
    "    \n",
    "# Continue Statement\n",
    "for i in range(15):\n",
    "    if i == 11:\n",
    "        continue\n",
    "    print(i)"
   ]
  },
  {
   "cell_type": "code",
   "execution_count": 15,
   "metadata": {},
   "outputs": [
    {
     "name": "stdout",
     "output_type": "stream",
     "text": [
      "3\n",
      "2710803897472\n",
      "<class 'list'>\n",
      "0\n",
      "1\n",
      "2\n",
      "3\n",
      "4\n",
      "5\n",
      "6\n"
     ]
    }
   ],
   "source": [
    "# Special Functions\n",
    "\n",
    "car_name = [\"maruthi\",\"mahindra\",\"tata\"]\n",
    "\n",
    "#length\n",
    "print(len(car_name))\n",
    "\n",
    "#id\n",
    "print(id(car_name))\n",
    "\n",
    "# data type\n",
    "print(type(car_name))\n",
    "\n",
    "\n",
    "# Range\n",
    "\n",
    "for i in range(7):\n",
    "    print(i)\n"
   ]
  },
  {
   "cell_type": "code",
   "execution_count": 17,
   "metadata": {},
   "outputs": [
    {
     "name": "stdout",
     "output_type": "stream",
     "text": [
      "Hello moksha!\n"
     ]
    }
   ],
   "source": [
    "#Function definition with parameter 'name'\n",
    "def greet(name):\n",
    "    \"\"\"This function prints a greeting message.\"\"\"\n",
    "    print(\"Hello\", name + \"!\")\n",
    "\n",
    "# Function call with argument 'Alice'\n",
    "greet(\"moksha\")"
   ]
  },
  {
   "cell_type": "code",
   "execution_count": 18,
   "metadata": {},
   "outputs": [
    {
     "name": "stdout",
     "output_type": "stream",
     "text": [
      "20\n"
     ]
    }
   ],
   "source": [
    "# Area of rectangle\n",
    "def calculate_area(length,width):\n",
    "    return length * width\n",
    "\n",
    "area = calculate_area(4,5)\n",
    "print(area)"
   ]
  },
  {
   "cell_type": "code",
   "execution_count": 20,
   "metadata": {},
   "outputs": [
    {
     "name": "stdout",
     "output_type": "stream",
     "text": [
      "25.0\n",
      "Atleast provide one number\n"
     ]
    }
   ],
   "source": [
    "# Calculate avg of numbers\n",
    "def calculate_average(*numbers):\n",
    "    if len(numbers) == 0:\n",
    "        print(\"Atleast provide one number\")\n",
    "        return\n",
    "    return sum(numbers) / len(numbers)\n",
    "average = calculate_average(10,20,30,40) # output should be 25\n",
    "print(average)\n",
    "\n",
    "calculate_average()"
   ]
  },
  {
   "cell_type": "code",
   "execution_count": 21,
   "metadata": {},
   "outputs": [
    {
     "name": "stdout",
     "output_type": "stream",
     "text": [
      "10\n",
      "Hello, Latha!\n",
      "['venu', 'vijay', 'vamshi', 'ashwith']\n"
     ]
    }
   ],
   "source": [
    "#lambda Function \n",
    "lambda arguments : expression #syntax\n",
    "\n",
    "# simple addition in lambda function\n",
    "add = lambda x, y: x + y\n",
    "result = add(4, 6)\n",
    "print(result)  \n",
    "\n",
    "# string formating \n",
    "greeting = lambda name: f\"Hello, {name}!\"\n",
    "print(greeting(\"Latha\"))\n",
    "\n",
    "#sorting a list based on lengh \n",
    "words = [\"venu\", \"vijay\", \"ashwith\", \"vamshi\"]\n",
    "sorted_words = sorted(words, key=lambda word: len(word))\n",
    "\n",
    "print(sorted_words)  # Output: ['grapes', 'apple', 'mango', 'banana']"
   ]
  },
  {
   "cell_type": "code",
   "execution_count": 23,
   "metadata": {},
   "outputs": [
    {
     "name": "stdout",
     "output_type": "stream",
     "text": [
      "[25, 36, 49, 64, 81]\n"
     ]
    }
   ],
   "source": [
    "# Map\n",
    "numbers = [5,6,7,8,9]\n",
    "\n",
    "# Squaring each number \n",
    "squared_numbers = map(lambda x: x * x, numbers)\n",
    "\n",
    "# map() returns an iterator, convert it to a list for printing\n",
    "print(list(squared_numbers))  # Output: [25,36,49,64,81]"
   ]
  },
  {
   "cell_type": "code",
   "execution_count": 24,
   "metadata": {},
   "outputs": [
    {
     "name": "stdout",
     "output_type": "stream",
     "text": [
      "[2, 4, 6, 8, 10]\n"
     ]
    }
   ],
   "source": [
    "# Filter\n",
    "numbers = [1,2,3,4,5,6,7,8,9,10]\n",
    "\n",
    "even_numbers=filter(lambda x : x%2 == 0, numbers)\n",
    "\n",
    "print(list(even_numbers))"
   ]
  },
  {
   "cell_type": "code",
   "execution_count": 25,
   "metadata": {},
   "outputs": [
    {
     "name": "stdout",
     "output_type": "stream",
     "text": [
      "360\n",
      "360\n"
     ]
    }
   ],
   "source": [
    "# Reduce\n",
    "from functools import reduce #necessary to import reduce\n",
    "\n",
    "numbers = [3,4,5,6,]\n",
    "\n",
    "product = reduce(lambda x,y:x*y,numbers)\n",
    "\n",
    "print(product)\n",
    "\n",
    "# Another approach\n",
    "product = 1\n",
    "for num in numbers:\n",
    "    product *= num\n",
    "    \n",
    "print(product)"
   ]
  },
  {
   "cell_type": "code",
   "execution_count": 26,
   "metadata": {},
   "outputs": [
    {
     "name": "stdout",
     "output_type": "stream",
     "text": [
      "16\n"
     ]
    }
   ],
   "source": [
    "# Return function\n",
    "def square(x):\n",
    "    # this function is used to sq the number\n",
    "    return x * x\n",
    "\n",
    "result = square(4)\n",
    "print(result)"
   ]
  },
  {
   "cell_type": "code",
   "execution_count": 27,
   "metadata": {},
   "outputs": [
    {
     "name": "stdout",
     "output_type": "stream",
     "text": [
      "Outside function: 10\n",
      "Inside function: 10 20\n",
      "Inside inner function: 10 20 30\n"
     ]
    }
   ],
   "source": [
    "#local and global variable\n",
    "\n",
    "x = 10  # Global variable\n",
    "\n",
    "def my_function():\n",
    "  y = 20  # Local variable\n",
    "  print(\"Inside function:\", x, y)  # Accessing both global and local variables\n",
    "\n",
    "  def inner_function():\n",
    "    z = 30  # Local variable within inner_function\n",
    "    print(\"Inside inner function:\", x, y, z)  # Accessing global, local (outer), and local (inner) variables\n",
    "\n",
    "  inner_function()  # Calling inner_function\n",
    "\n",
    "print(\"Outside function:\", x)  # Accessing only the global variable\n",
    "\n",
    "my_function()"
   ]
  }
 ],
 "metadata": {
  "kernelspec": {
   "display_name": "Python 3",
   "language": "python",
   "name": "python3"
  },
  "language_info": {
   "codemirror_mode": {
    "name": "ipython",
    "version": 3
   },
   "file_extension": ".py",
   "mimetype": "text/x-python",
   "name": "python",
   "nbconvert_exporter": "python",
   "pygments_lexer": "ipython3",
   "version": "3.11.5"
  }
 },
 "nbformat": 4,
 "nbformat_minor": 2
}
