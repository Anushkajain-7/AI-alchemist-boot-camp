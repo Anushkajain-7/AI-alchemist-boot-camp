{
 "cells": [
  {
   "cell_type": "code",
   "execution_count": 1,
   "metadata": {},
   "outputs": [
    {
     "name": "stdout",
     "output_type": "stream",
     "text": [
      "Venu Yadav\n",
      "19\n",
      "Human\n",
      "Hello, my name is Venu Yadav and I am 19 years old.\n"
     ]
    }
   ],
   "source": [
    "# Define a class\n",
    "class Person:\n",
    "    # Class attribute\n",
    "    species = \"Human\"\n",
    "\n",
    "    # Constructor method\n",
    "    def __init__(self, name, age):\n",
    "        self.name = name  # Instance attribute\n",
    "        self.age = age  # Instance attribute\n",
    "\n",
    "    # Instance method\n",
    "    def introduce(self):\n",
    "        print(f\"Hello, my name is {self.name} and I am {self.age} years old.\")\n",
    "\n",
    "# Create an object (instance of the class)\n",
    "person1 = Person(\"Venu Yadav\", 19)\n",
    "\n",
    "# Access attributes\n",
    "print(person1.name)  \n",
    "print(person1.age)  \n",
    "print(person1.species)  \n",
    "\n",
    "# Call the method\n",
    "person1.introduce() "
   ]
  },
  {
   "cell_type": "code",
   "execution_count": 6,
   "metadata": {},
   "outputs": [
    {
     "name": "stdout",
     "output_type": "stream",
     "text": [
      "Deposited $500 into account 1234567890\n",
      "Withdrew $200 from account 1234567890\n",
      "1300\n"
     ]
    },
    {
     "ename": "AttributeError",
     "evalue": "'BankAccount' object has no attribute '__balance'",
     "output_type": "error",
     "traceback": [
      "\u001b[1;31m---------------------------------------------------------------------------\u001b[0m",
      "\u001b[1;31mAttributeError\u001b[0m                            Traceback (most recent call last)",
      "Cell \u001b[1;32mIn[6], line 32\u001b[0m\n\u001b[0;32m     29\u001b[0m \u001b[38;5;28mprint\u001b[39m(account\u001b[38;5;241m.\u001b[39mget_balance())  \u001b[38;5;66;03m# Output: 1300\u001b[39;00m\n\u001b[0;32m     31\u001b[0m \u001b[38;5;66;03m# Attempting to access private attributes directly\u001b[39;00m\n\u001b[1;32m---> 32\u001b[0m \u001b[38;5;28mprint\u001b[39m(\u001b[43maccount\u001b[49m\u001b[38;5;241;43m.\u001b[39;49m\u001b[43m__balance\u001b[49m)  \n\u001b[0;32m     34\u001b[0m \u001b[38;5;66;03m# Output: AttributeError: 'BankAccount' object has no attribute '__balance'\u001b[39;00m\n",
      "\u001b[1;31mAttributeError\u001b[0m: 'BankAccount' object has no attribute '__balance'"
     ]
    }
   ],
   "source": [
    "# Data Encapsulation \n",
    "\n",
    "class BankAccount:\n",
    "    def __init__(self, account_number, balance):\n",
    "        self.__account_number = account_number  # Private attribute\n",
    "        self.__balance = balance  # Private attribute\n",
    "\n",
    "    def deposit(self, amount):\n",
    "        if amount > 0:\n",
    "            self.__balance += amount\n",
    "            print(f\"Deposited ${amount} into account {self.__account_number}\")\n",
    "        else:\n",
    "            print(\"Invalid deposit amount\")\n",
    "\n",
    "    def withdraw(self, amount):\n",
    "        if 0 < amount <= self.__balance:\n",
    "            self.__balance -= amount\n",
    "            print(f\"Withdrew ${amount} from account {self.__account_number}\")\n",
    "        else:\n",
    "            print(\"Invalid withdrawal amount or insufficient balance\")\n",
    "\n",
    "    def get_balance(self):\n",
    "        return self.__balance\n",
    "\n",
    "# Usage\n",
    "account = BankAccount(\"1234567890\", 1000)\n",
    "account.deposit(500)  # Output: Deposited $500 into account 1234567890\n",
    "account.withdraw(200)  # Output: Withdrew $200 from account 1234567890\n",
    "print(account.get_balance())  # Output: 1300\n",
    "\n",
    "# Attempting to access private attributes directly\n",
    "print(account.__balance)  \n",
    "\n",
    "# Output: AttributeError: 'BankAccount' object has no attribute '__balance'\n"
   ]
  },
  {
   "cell_type": "code",
   "execution_count": 7,
   "metadata": {},
   "outputs": [
    {
     "name": "stdout",
     "output_type": "stream",
     "text": [
      "Deposited $1000 into account 9876543210\n",
      "Withdrew $2000 from account 9876543210\n",
      "999000\n"
     ]
    }
   ],
   "source": [
    " # Data abstraction \n",
    "\n",
    "class BankAccount:\n",
    "    def __init__(self, account_number, balance):\n",
    "        self._account_number = account_number\n",
    "        self._balance = balance\n",
    "\n",
    "    def deposit(self, amount):\n",
    "        if amount > 0:\n",
    "            self._balance += amount\n",
    "            print(f\"Deposited ${amount} into account {self._account_number}\")\n",
    "        else:\n",
    "            print(\"Invalid deposit amount\")\n",
    "\n",
    "    def withdraw(self, amount):\n",
    "        if 0 < amount <= self._balance:\n",
    "            self._balance -= amount\n",
    "            print(f\"Withdrew ${amount} from account {self._account_number}\")\n",
    "        else:\n",
    "            print(\"Invalid withdrawal amount or insufficient balance\")\n",
    "\n",
    "    def get_balance(self):\n",
    "        return self._balance\n",
    "    \n",
    "account = BankAccount(\"9876543210\", 1000000)\n",
    "account.deposit(1000)\n",
    "account.withdraw(2000)\n",
    "print(account.get_balance())"
   ]
  },
  {
   "cell_type": "code",
   "execution_count": 8,
   "metadata": {},
   "outputs": [
    {
     "name": "stdout",
     "output_type": "stream",
     "text": [
      "Venu Yadav\n",
      "19\n",
      "{'Math': 100, 'English': 92, 'Science': 98}\n",
      "{'Math': 90, 'English': 92, 'Science': 98}\n",
      "93.33333333333333\n"
     ]
    }
   ],
   "source": [
    "# Data hiding  \n",
    "\n",
    "class Student:\n",
    "    def __init__(self, name, age, grades):\n",
    "        self.__name = name  \n",
    "        self.__age = age  \n",
    "        self.__grades = grades  \n",
    "\n",
    "    def get_name(self):\n",
    "        return self.__name\n",
    "\n",
    "    def get_age(self):\n",
    "        return self.__age\n",
    "\n",
    "    def get_grades(self):\n",
    "        return self.__grades\n",
    "\n",
    "    def set_grade(self, course, grade):\n",
    "        if course in self.__grades:\n",
    "            self.__grades[course] = grade\n",
    "        else:\n",
    "            print(f\"Course '{course}' not found.\")\n",
    "\n",
    "    def get_average_grade(self):\n",
    "        total = sum(self.__grades.values())\n",
    "        num_courses = len(self.__grades)\n",
    "        if num_courses > 0:\n",
    "            return total / num_courses\n",
    "        else:\n",
    "            return 0.0\n",
    "\n",
    "student = Student(\"Venu Yadav\", 19, {\"Math\": 100, \"English\": 92, \"Science\": 98})\n",
    "\n",
    "print(student.get_name())  \n",
    "print(student.get_age())  \n",
    "print(student.get_grades())  \n",
    "\n",
    "student.set_grade(\"Math\", 90)\n",
    "print(student.get_grades())  \n",
    "\n",
    "average_grade = student.get_average_grade()\n",
    "print(average_grade) \n"
   ]
  },
  {
   "cell_type": "code",
   "execution_count": 9,
   "metadata": {},
   "outputs": [
    {
     "name": "stdout",
     "output_type": "stream",
     "text": [
      "Instance method called. Instance attribute: I am an instance attribute\n",
      "Class method called. Class attribute: I am a class attribute\n",
      "Static method called with parameter: Hello!\n"
     ]
    }
   ],
   "source": [
    "#Methods in class\n",
    "\n",
    "#Instance methods \n",
    "class Example:\n",
    "    def __init__(self, instance_attribute):\n",
    "        self.instance_attribute = instance_attribute\n",
    "\n",
    "    def instance_method(self):\n",
    "        return f\"Instance method called. Instance attribute: {self.instance_attribute}\"\n",
    "example = Example(\"I am an instance attribute\")\n",
    "print(example.instance_method())\n",
    "\n",
    "#class method\n",
    "class Example:\n",
    "    class_attribute = \"I am a class attribute\"\n",
    "\n",
    "    @classmethod\n",
    "    def class_method(cls):\n",
    "        return f\"Class method called. Class attribute: {cls.class_attribute}\"\n",
    "print(Example.class_method())\n",
    "\n",
    "#static method\n",
    "class Example:\n",
    "    @staticmethod\n",
    "    def static_method(param):\n",
    "        return f\"Static method called with parameter: {param}\"\n",
    "print(Example.static_method(\"Hello!\"))\n",
    "\n"
   ]
  },
  {
   "cell_type": "code",
   "execution_count": 10,
   "metadata": {},
   "outputs": [
    {
     "name": "stdout",
     "output_type": "stream",
     "text": [
      "Instance 1 attribute\n",
      "I am a class attribute\n",
      "Modified class attribute\n"
     ]
    }
   ],
   "source": [
    "#Data Members In Class\n",
    "\n",
    "#Instance variable\n",
    "class Example:\n",
    "    def __init__(self, instance_attribute):\n",
    "        self.instance_attribute = instance_attribute\n",
    "example1 = Example(\"Instance 1 attribute\")\n",
    "print(example1.instance_attribute)\n",
    "\n",
    "#Class Variable \n",
    "class Example:\n",
    "    class_attribute = \"I am a class attribute\"\n",
    "print(Example.class_attribute)\n",
    "Example.class_attribute = \"Modified class attribute\"\n",
    "print(Example.class_attribute)\n",
    "\n"
   ]
  },
  {
   "cell_type": "code",
   "execution_count": 12,
   "metadata": {},
   "outputs": [
    {
     "name": "stdout",
     "output_type": "stream",
     "text": [
      "Hi Sai Venkat, this is Venu Yadav. Nice to meet you!\n",
      "John\n",
      "One argument method called with argument: Argument 1\n",
      "Two arguments method called with arguments: Argument 1, Argument 2\n",
      "One argument method called with argument: Argument 1\n",
      "Two arguments method called with arguments: Argument 1, Argument 2\n"
     ]
    }
   ],
   "source": [
    "#Methods with Arguments \n",
    "\n",
    "#Method Passes Object as an Argument:\n",
    "class Example:\n",
    "    def __init__(self, name):\n",
    "        self.name = name\n",
    "\n",
    "    def greet(self):\n",
    "        return f\"Hello, my name is {self.name}\"\n",
    "\n",
    "    def introduce_friend(self, friend):\n",
    "        return f\"Hi {friend.name}, this is {self.name}. Nice to meet you!\"  \n",
    "person1 = Example(\"Venu Yadav\")\n",
    "person2 = Example(\"Sai Venkat\")\n",
    "print(person1.introduce_friend(person2))\n",
    "\n",
    "\n",
    "# Method Returns Object:\n",
    "class Example:\n",
    "    def __init__(self, name):\n",
    "        self.name = name\n",
    "\n",
    "    def create_friend(self, friend_name):\n",
    "        return Example(friend_name)\n",
    "person = Example(\"Alice\")\n",
    "friend = person.create_friend(\"John\")\n",
    "print(friend.name)\n",
    "\n",
    "#Method Overloading using Default Argument Values\n",
    "class Example:\n",
    "    def method(self, arg1, arg2=None):\n",
    "        if arg2 is None:\n",
    "            return f\"One argument method called with argument: {arg1}\"\n",
    "        else:\n",
    "            return f\"Two arguments method called with arguments: {arg1}, {arg2}\"\n",
    "obj = Example()\n",
    "print(obj.method(\"Argument 1\"))\n",
    "print(obj.method(\"Argument 1\", \"Argument 2\"))\n",
    "\n",
    "#Method Overloading using Variable-Length Argument Lists (Args and Kwargs)\n",
    "class Example:\n",
    "    def method(self, *args):\n",
    "        if len(args) == 1:\n",
    "            return f\"One argument method called with argument: {args[0]}\"\n",
    "        elif len(args) == 2:\n",
    "            return f\"Two arguments method called with arguments: {args[0]}, {args[1]}\"\n",
    "        else:\n",
    "            return \"Method overloaded with more than two arguments\"\n",
    "obj = Example()\n",
    "print(obj.method(\"Argument 1\"))\n",
    "print(obj.method(\"Argument 1\", \"Argument 2\"))\n",
    "\n",
    "\n"
   ]
  },
  {
   "cell_type": "code",
   "execution_count": 13,
   "metadata": {},
   "outputs": [
    {
     "name": "stdout",
     "output_type": "stream",
     "text": [
      "John\n",
      "Object of Example class with name: Venu\n",
      "Creating a new instance of Example class\n"
     ]
    }
   ],
   "source": [
    "#__init__ method\n",
    "class Example:\n",
    "    def __init__(self, name):\n",
    "        self.name = name\n",
    "obj = Example(\"John\")\n",
    "print(obj.name)  \n",
    "\n",
    "#__str__method\n",
    "class Example:\n",
    "    def __init__(self, name):\n",
    "        self.name = name\n",
    "\n",
    "    def __str__(self):\n",
    "        return f\"Object of Example class with name: {self.name}\"\n",
    "obj = Example(\"Venu\")\n",
    "print(obj) \n",
    "\n",
    "#__new__method\n",
    "class Example:\n",
    "    def __new__(cls, *args, **kwargs):\n",
    "        print(\"Creating a new instance of Example class\")\n",
    "        instance = super().__new__(cls)\n",
    "        return instance\n",
    "\n",
    "    def __init__(self, name):\n",
    "        self.name = name\n",
    "obj = Example(\"Alice\")\n",
    "\n",
    "\n"
   ]
  },
  {
   "cell_type": "code",
   "execution_count": 14,
   "metadata": {},
   "outputs": [
    {
     "name": "stdout",
     "output_type": "stream",
     "text": [
      "Initializing Example object with name: Modi\n",
      "Destructing Example object with name: Modi\n",
      "Initializing Example object with name: Venu\n"
     ]
    }
   ],
   "source": [
    "#constructor (__init__) and the \"destructor\" (__del__)\n",
    "class Example:\n",
    "    def __init__(self, name):\n",
    "        self.name = name\n",
    "        print(f\"Initializing Example object with name: {self.name}\")\n",
    "\n",
    "    def __del__(self):\n",
    "        print(f\"Destructing Example object with name: {self.name}\")\n",
    "\n",
    "# Creating an instance of the class\n",
    "obj1 = Example(\"Modi\")\n",
    "\n",
    "# Deleting the object explicitly\n",
    "del obj1\n",
    "\n",
    "# Creating another instance\n",
    "obj2 = Example(\"Venu\")\n",
    "\n",
    "# No explicit deletion; Python's garbage collector will handle it\n"
   ]
  }
 ],
 "metadata": {
  "kernelspec": {
   "display_name": "Python 3",
   "language": "python",
   "name": "python3"
  },
  "language_info": {
   "codemirror_mode": {
    "name": "ipython",
    "version": 3
   },
   "file_extension": ".py",
   "mimetype": "text/x-python",
   "name": "python",
   "nbconvert_exporter": "python",
   "pygments_lexer": "ipython3",
   "version": "3.11.5"
  }
 },
 "nbformat": 4,
 "nbformat_minor": 2
}
